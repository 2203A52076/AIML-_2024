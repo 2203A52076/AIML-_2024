{
  "nbformat": 4,
  "nbformat_minor": 0,
  "metadata": {
    "colab": {
      "provenance": []
    },
    "kernelspec": {
      "name": "python3",
      "display_name": "Python 3"
    },
    "language_info": {
      "name": "python"
    }
  },
  "cells": [
    {
      "cell_type": "code",
      "execution_count": 3,
      "metadata": {
        "colab": {
          "base_uri": "https://localhost:8080/"
        },
        "id": "aOsNM9HkUXwl",
        "outputId": "7bb8d2ee-8c0d-4090-9bc2-aab16ad42822"
      },
      "outputs": [
        {
          "output_type": "stream",
          "name": "stdout",
          "text": [
            "Data from Excel:\n",
            "   Table 1  Unnamed: 1 Unnamed: 2\n",
            "0     name        Htno    Surname\n",
            "1  Lakshmi  2203A52230          N\n",
            "2   Sravan  2203A52099          L\n",
            "3  Niyathi  2203A51038          B\n",
            "4    Navya  2203A52057          N\n",
            "\n",
            "Data from CSV:\n",
            "      name        Htno Surname  Unnamed: 3  Unnamed: 4  Unnamed: 5\n",
            "0  Lakshmi  2203A52230       N         NaN         NaN         NaN\n",
            "1   Sravan  2203A52099       L         NaN         NaN         NaN\n",
            "2  Niyathi  2203A51038       B         NaN         NaN         NaN\n",
            "3    Navya  2203A52057       N         NaN         NaN         NaN\n",
            "\n",
            "Data from TSV:\n",
            "      name        Htno Surname  Unnamed: 3  Unnamed: 4  Unnamed: 5\n",
            "0  Lakshmi  2203A52230       N         NaN         NaN         NaN\n",
            "1   Sravan  2203A52099       L         NaN         NaN         NaN\n",
            "2  Niyathi  2203A51038       B         NaN         NaN         NaN\n",
            "3    Navya  2203A52057       N         NaN         NaN         NaN\n"
          ]
        }
      ],
      "source": [
        "import pandas as pd\n",
        "\n",
        "# Read Excel file\n",
        "data_excel = pd.read_excel('/content/gopi1.xlsx')\n",
        "\n",
        "# Read CSV file\n",
        "data_csv = pd.read_csv('/content/gopi2.csv')\n",
        "\n",
        "# Read TSV file (Tab-separated values)\n",
        "data_tsv = pd.read_csv('/content/gopi3.tsv', sep='\\t')\n",
        "\n",
        "print(\"Data from Excel:\")\n",
        "print(data_excel)\n",
        "\n",
        "print(\"\\nData from CSV:\")\n",
        "print(data_csv)\n",
        "\n",
        "print(\"\\nData from TSV:\")\n",
        "print(data_tsv)\n",
        "\n",
        "\n",
        "\n",
        "\n",
        "\n",
        "\n"
      ]
    }
  ]
}